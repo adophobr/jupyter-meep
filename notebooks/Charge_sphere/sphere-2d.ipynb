{
 "cells": [
  {
   "cell_type": "code",
   "execution_count": 4,
   "metadata": {},
   "outputs": [
    {
     "name": "stdout",
     "output_type": "stream",
     "text": [
      "-----------\n",
      "Initializing structure...\n",
      "Halving computational cell along direction y\n",
      "time for choose_chunkdivision = 0.00186682 s\n",
      "Working in 2D dimensions.\n",
      "Computational cell is 40 x 40 x 0 with resolution 10\n",
      "     block, center = (0,0,0)\n",
      "          size (40,40,0)\n",
      "          axes (1,0,0), (0,1,0), (0,0,1)\n",
      "          dielectric constant epsilon diagonal = (1,1,1)\n",
      "     block, center = (0,0,0)\n",
      "          size (34,34,0)\n",
      "          axes (1,0,0), (0,1,0), (0,0,1)\n",
      "          dielectric constant epsilon diagonal = (1,1,1)\n",
      "time for set_epsilon = 0.205882 s\n",
      "time for set_conductivity = 0.00623608 s\n",
      "time for set_conductivity = 0.00821114 s\n",
      "time for set_conductivity = 0.00783992 s\n",
      "-----------\n"
     ]
    },
    {
     "data": {
      "text/plain": [
       "<matplotlib.axes._subplots.AxesSubplot at 0x7faf8b20dc10>"
      ]
     },
     "execution_count": 4,
     "metadata": {},
     "output_type": "execute_result"
    }
   ],
   "source": [
    "import numpy as np\n",
    "import matplotlib.pyplot as plt\n",
    "import meep as mp\n",
    "import subprocess\n",
    "\n",
    "import sys\n",
    "sys.path.append('../../jupyter-meep-libs')\n",
    "import meep_nb as mpnb\n",
    "\n",
    "sx = 40\n",
    "sy = sx\n",
    "cell_size = mp.Vector3(sx,sy,0)\n",
    "shell_thick = 3\n",
    "\n",
    "shell = [mp.Block(cell_size, center=mp.Vector3(0, 0), material=mp.Medium(D_conductivity=1e3)),\n",
    "         mp.Block(mp.Vector3(sx-shell_thick*2, sy-shell_thick*2), center=mp.Vector3(0, 0), material=mp.air)]\n",
    "# charged = mp.Block(mp.Vector3)\n",
    "\n",
    "charge_source = [mp.Source(mp.ContinuousSource(frequency=1e-10, width=500),\n",
    "                           amplitude=x if x != 0 else 1,\n",
    "                         component=mp.Ez,\n",
    "                         center=mp.Vector3(x, 0),\n",
    "                         size=mp.Vector3(4, 6)) for x in [0]]\n",
    "\n",
    "dpml = .1\n",
    "pml_layers = [mp.PML(thickness=dpml)]\n",
    "\n",
    "symmetries = [mp.Mirror(direction=mp.Y)]\n",
    "\n",
    "sim = mp.Simulation(resolution=10,\n",
    "                    cell_size=cell_size,\n",
    "                    geometry=shell,\n",
    "#                     default_material=mp.Medium(index=1.5),\n",
    "                    sources=charge_source,\n",
    "                    symmetries=symmetries,\n",
    "                    boundary_layers=pml_layers\n",
    "                   )\n",
    "sim.plot2D()"
   ]
  },
  {
   "cell_type": "code",
   "execution_count": 5,
   "metadata": {},
   "outputs": [
    {
     "data": {
      "image/png": "[encoded data removed]",
      "text/plain": [
       "<Figure size 432x288 with 1 Axes>"
      ]
     },
     "metadata": {},
     "output_type": "display_data"
    },
    {
     "name": "stdout",
     "output_type": "stream",
     "text": [
      "run 1 finished at t = 1100.0 (22000 timesteps)\n"
     ]
    },
    {
     "data": {
      "image/png": "[encoded data removed]",
      "text/plain": [
       "<Figure size 432x288 with 1 Axes>"
      ]
     },
     "metadata": {
      "needs_background": "light"
     },
     "output_type": "display_data"
    }
   ],
   "source": [
    "def livefield(sim):\n",
    "    mpnb.liveplot(sim, mp.Ez)\n",
    "    \n",
    "sim.reset_meep()\n",
    "sim.run(mp.at_beginning(livefield),\n",
    "        mp.at_every(10, livefield),\n",
    "        until=1000)\n",
    "sim.run(#mp.at_beginning(livefield),\n",
    "        mp.at_every(2, livefield),\n",
    "        until=100)"
   ]
  },
  {
   "cell_type": "code",
   "execution_count": null,
   "metadata": {},
   "outputs": [],
   "source": []
  }
 ],
 "metadata": {
  "kernelspec": {
   "display_name": "Python 3",
   "language": "python",
   "name": "python3"
  },
  "language_info": {
   "codemirror_mode": {
    "name": "ipython",
    "version": 3
   },
   "file_extension": ".py",
   "mimetype": "text/x-python",
   "name": "python",
   "nbconvert_exporter": "python",
   "pygments_lexer": "ipython3",
   "version": "3.8.3"
  },
  "varInspector": {
   "cols": {
    "lenName": 16,
    "lenType": 16,
    "lenVar": 40
   },
   "kernels_config": {
    "python": {
     "delete_cmd_postfix": "",
     "delete_cmd_prefix": "del ",
     "library": "var_list.py",
     "varRefreshCmd": "print(var_dic_list())"
    },
    "r": {
     "delete_cmd_postfix": ") ",
     "delete_cmd_prefix": "rm(",
     "library": "var_list.r",
     "varRefreshCmd": "cat(var_dic_list()) "
    }
   },
   "types_to_exclude": [
    "module",
    "function",
    "builtin_function_or_method",
    "instance",
    "_Feature"
   ],
   "window_display": false
  }
 },
 "nbformat": 4,
 "nbformat_minor": 4
}
