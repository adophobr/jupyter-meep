{
 "cells": [
  {
   "cell_type": "markdown",
   "metadata": {},
   "source": [
    "# MEEP example of Cherenkov radiation\n",
    "This shows a charge (zero frequency source) and updating sources while simulating"
   ]
  },
  {
   "cell_type": "code",
   "execution_count": 1,
   "metadata": {},
   "outputs": [
    {
     "name": "stdout",
     "output_type": "stream",
     "text": [
      "you imported meep from custom build\n"
     ]
    }
   ],
   "source": [
    "import numpy as np\n",
    "import matplotlib.pyplot as plt\n",
    "import meep as mp\n",
    "import subprocess\n",
    "\n",
    "import sys\n",
    "sys.path.append('../../jupyter-meep-libs')\n",
    "import meep_nb as mpnb"
   ]
  },
  {
   "cell_type": "code",
   "execution_count": null,
   "metadata": {},
   "outputs": [],
   "source": [
    "sx = 60\n",
    "sy = 60\n",
    "cell_size = mp.Vector3(sx,sy,0)\n",
    "\n",
    "dpml = 1.0\n",
    "pml_layers = [mp.PML(thickness=dpml)]\n",
    "\n",
    "v = 0.7 # velocity of point charge\n",
    "\n",
    "symmetries = [mp.Mirror(direction=mp.Y)]\n",
    "\n",
    "sim = mp.Simulation(resolution=10,\n",
    "                    cell_size=cell_size,\n",
    "                    default_material=mp.Medium(index=1.5),\n",
    "                    symmetries=symmetries,\n",
    "                    boundary_layers=pml_layers)\n",
    "\n",
    "def move_source(sim):\n",
    "    sim.change_sources([mp.Source(mp.ContinuousSource(frequency=1e-10),\n",
    "                                  component=mp.Ex,\n",
    "                                  center=mp.Vector3(-0.5*sx+dpml+v*sim.meep_time()))])\n",
    "\n",
    "sim.use_output_directory('outputs')\n",
    "sim.run(move_source,\n",
    "        mp.at_every(2, mp.output_png(mp.Hz, \"-vZc dkbluered -M 1\")),\n",
    "        until=sx/v)\n"
   ]
  },
  {
   "cell_type": "code",
   "execution_count": 16,
   "metadata": {},
   "outputs": [
    {
     "data": {
      "text/plain": [
       "0"
      ]
     },
     "execution_count": 16,
     "metadata": {},
     "output_type": "execute_result"
    }
   ],
   "source": [
    "subprocess.check_call(['convert', 'outputs/*.png', 'Cherenkov-radiation.gif'])"
   ]
  },
  {
   "cell_type": "markdown",
   "metadata": {},
   "source": [
    "![](Cherenkov-radiation.gif)"
   ]
  }
 ],
 "metadata": {
  "kernelspec": {
   "display_name": "Python 3",
   "language": "python",
   "name": "python3"
  },
  "language_info": {
   "codemirror_mode": {
    "name": "ipython",
    "version": 3
   },
   "file_extension": ".py",
   "mimetype": "text/x-python",
   "name": "python",
   "nbconvert_exporter": "python",
   "pygments_lexer": "ipython3",
   "version": "3.8.3"
  },
  "varInspector": {
   "cols": {
    "lenName": 16,
    "lenType": 16,
    "lenVar": 40
   },
   "kernels_config": {
    "python": {
     "delete_cmd_postfix": "",
     "delete_cmd_prefix": "del ",
     "library": "var_list.py",
     "varRefreshCmd": "print(var_dic_list())"
    },
    "r": {
     "delete_cmd_postfix": ") ",
     "delete_cmd_prefix": "rm(",
     "library": "var_list.r",
     "varRefreshCmd": "cat(var_dic_list()) "
    }
   },
   "types_to_exclude": [
    "module",
    "function",
    "builtin_function_or_method",
    "instance",
    "_Feature"
   ],
   "window_display": false
  }
 },
 "nbformat": 4,
 "nbformat_minor": 4
}
